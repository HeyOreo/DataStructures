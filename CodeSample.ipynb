{
 "cells": [
  {
   "cell_type": "markdown",
   "metadata": {},
   "source": [
    "- The model is pre-trained.\n",
    "- Two cameras are available.\n",
    "- Frame size: 100x100.\n",
    "- 40? frames per second.\n",
    "- Write some motion detection code based on this."
   ]
  },
  {
   "cell_type": "markdown",
   "metadata": {},
   "source": [
    "General idea:\n",
    "1. Load all the necessary tools.\n",
    "2. Load the model.\n",
    "3. Read frames from both cameras and resize to 100x100, 40 frames at a time.\n",
    "4. Predict using the pretrained model and output the result."
   ]
  },
  {
   "cell_type": "code",
   "execution_count": null,
   "metadata": {},
   "outputs": [],
   "source": [
    "import tensorflow as tf\n",
    "import numpy as np\n",
    "import cv2"
   ]
  },
  {
   "cell_type": "code",
   "execution_count": 14,
   "metadata": {},
   "outputs": [],
   "source": [
    "NEW_WIDTH = 100\n",
    "NEW_HEIGHT = 100\n",
    "NUM_OF_FRAMES = 40"
   ]
  },
  {
   "cell_type": "code",
   "execution_count": null,
   "metadata": {},
   "outputs": [],
   "source": [
    "# Assume the architecture/weights are all in memory named model.ckpt.\n",
    "\n",
    "saver = tf.train.Saver()\n",
    "sess = tf.Session()\n",
    "saver.restore(sess, \"model.ckpt\")"
   ]
  },
  {
   "cell_type": "code",
   "execution_count": 15,
   "metadata": {},
   "outputs": [],
   "source": [
    "def read_from_camera(camera_index, num_of_frames, width, height):\n",
    "    \n",
    "    camera = cv2.VideoCapture(camera_index)\n",
    "    all_frames = []\n",
    "\n",
    "    for _ in range(num_of_frames):\n",
    "        \n",
    "        _, frame = camera.read()\n",
    "        frame = cv2.resize(frame, (width, height)) \n",
    "        all_frames.append(frame)\n",
    "\n",
    "    camera.release()\n",
    "    return np.array(all_frames)"
   ]
  },
  {
   "cell_type": "code",
   "execution_count": null,
   "metadata": {},
   "outputs": [],
   "source": [
    "# Read frames from the first camera.\n",
    "frames_cam1 = read_from_camera(0, NUM_OF_FRAMES, NEW_WIDTH, NEW_HEIGHT)\n",
    "# Read frames from the second camera.\n",
    "frames_cam2 = read_from_camera(1, NUM_OF_FRAMES, NEW_WIDTH, NEW_HEIGHT)"
   ]
  },
  {
   "cell_type": "code",
   "execution_count": null,
   "metadata": {},
   "outputs": [],
   "source": [
    "# Motion detection using the pre-loaded model.\n",
    "output1 = sess.run(predictions, feed_dict={x: frames_cam1})\n",
    "output2 = sess.run(predictions, feed_dict={x: frames_cam2})"
   ]
  }
 ],
 "metadata": {
  "kernelspec": {
   "display_name": "Python 3",
   "language": "python",
   "name": "python3"
  },
  "language_info": {
   "codemirror_mode": {
    "name": "ipython",
    "version": 3
   },
   "file_extension": ".py",
   "mimetype": "text/x-python",
   "name": "python",
   "nbconvert_exporter": "python",
   "pygments_lexer": "ipython3",
   "version": "3.6.4"
  }
 },
 "nbformat": 4,
 "nbformat_minor": 2
}
