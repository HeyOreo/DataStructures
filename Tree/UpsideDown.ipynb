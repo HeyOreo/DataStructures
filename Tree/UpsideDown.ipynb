{
 "cells": [
  {
   "cell_type": "code",
   "execution_count": 77,
   "metadata": {},
   "outputs": [],
   "source": [
    "class TreeNode:\n",
    "    \n",
    "    def __init__(self, x):\n",
    "        self.val = x\n",
    "        self.left = None\n",
    "        self.right = None\n",
    "    \n",
    "    def upsideDownBinaryTree(self):\n",
    "        \n",
    "        def util(root):\n",
    "            if root and root.left:\n",
    "                res = util(root.left)\n",
    "                root.left.right = root\n",
    "                if root.right:\n",
    "                    root.left.left=root.right\n",
    "                root.left, root.right = None, None\n",
    "                return res\n",
    "            else:\n",
    "                return root\n",
    "        return util(self)\n",
    "    \n",
    "    def inOrderTraversal(self):\n",
    "        \n",
    "        def util(root):\n",
    "            if not root:\n",
    "                return []\n",
    "            return util(root.left)+[root.val]+util(root.right)\n",
    "        return util(self)\n",
    "    \n",
    "    def preOrderTraversal(self):\n",
    "        \n",
    "        def util(root):\n",
    "            if not root:\n",
    "                return []\n",
    "            return [root.val]+util(root.left)+util(root.right)\n",
    "        return util(self)"
   ]
  },
  {
   "cell_type": "code",
   "execution_count": 78,
   "metadata": {},
   "outputs": [],
   "source": [
    "# Test.\n",
    "\n",
    "root = TreeNode(1)\n",
    "node2 = TreeNode(2)\n",
    "node3 = TreeNode(3)\n",
    "node4 = TreeNode(4)\n",
    "node5 = TreeNode(5)\n",
    "root.left = node2\n",
    "root.right = node3\n",
    "node2.left = node4\n",
    "node2.right = node5"
   ]
  },
  {
   "cell_type": "code",
   "execution_count": 79,
   "metadata": {},
   "outputs": [
    {
     "data": {
      "text/plain": [
       "[1, 2, 4, 5, 3]"
      ]
     },
     "execution_count": 79,
     "metadata": {},
     "output_type": "execute_result"
    }
   ],
   "source": [
    "root.preOrderTraversal()"
   ]
  },
  {
   "cell_type": "code",
   "execution_count": 80,
   "metadata": {},
   "outputs": [],
   "source": [
    "root = root.upsideDownBinaryTree()"
   ]
  },
  {
   "cell_type": "code",
   "execution_count": 81,
   "metadata": {},
   "outputs": [
    {
     "data": {
      "text/plain": [
       "[4, 5, 2, 3, 1]"
      ]
     },
     "execution_count": 81,
     "metadata": {},
     "output_type": "execute_result"
    }
   ],
   "source": [
    "root.preOrderTraversal()"
   ]
  }
 ],
 "metadata": {
  "kernelspec": {
   "display_name": "Python 3",
   "language": "python",
   "name": "python3"
  },
  "language_info": {
   "codemirror_mode": {
    "name": "ipython",
    "version": 3
   },
   "file_extension": ".py",
   "mimetype": "text/x-python",
   "name": "python",
   "nbconvert_exporter": "python",
   "pygments_lexer": "ipython3",
   "version": "3.6.4"
  }
 },
 "nbformat": 4,
 "nbformat_minor": 2
}
